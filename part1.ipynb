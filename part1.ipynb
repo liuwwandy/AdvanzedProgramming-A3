{
 "cells": [
  {
   "cell_type": "code",
   "execution_count": 2,
   "metadata": {},
   "outputs": [
    {
     "name": "stdout",
     "output_type": "stream",
     "text": [
      "KNN Square root of Mean squared error: 3526915.724816481\n",
      "KNN R_squared: 0.7809776040385839\n",
      "Regression Tree Square root of Mean squared error: 4600124.03386241\n",
      "Regression Tree R_squared: 0.6274046381817606\n"
     ]
    },
    {
     "name": "stderr",
     "output_type": "stream",
     "text": [
      "C:\\Users\\15096\\Anaconda3\\lib\\site-packages\\sklearn\\utils\\validation.py:724: DataConversionWarning: A column-vector y was passed when a 1d array was expected. Please change the shape of y to (n_samples, ), for example using ravel().\n",
      "  y = column_or_1d(y, warn=True)\n"
     ]
    },
    {
     "name": "stdout",
     "output_type": "stream",
     "text": [
      "SVM Square root of Mean squared error: 3136212.3113783826\n",
      "SVM R_squared: 0.8268153997679144\n"
     ]
    }
   ],
   "source": [
    "#1\n",
    "import numpy as np\n",
    "my_NIA = 100419401\n",
    "np.random.seed(my_NIA)\n",
    "#2\n",
    "from numpy.random import randint \n",
    "import pandas as pd\n",
    "train = pd.read_csv('C:/Users/15096/Downloads/python/train.csv')\n",
    "test = pd.read_csv('C:/Users/15096/Downloads/python/test.csv')\n",
    "#5.select the first blue point 75 columns\n",
    "X_trainfirst= train.iloc[:,0:75]\n",
    "y_train= train.energy.values\n",
    "X_testfirst= test.iloc[:,0:75]\n",
    "y_test =  test.energy.values\n",
    "#3.Normalize using MinMaxScaler\n",
    "from sklearn import preprocessing\n",
    "min_max_scaler = preprocessing.MinMaxScaler()\n",
    "X_train_minmax = min_max_scaler.fit_transform(X_trainfirst)\n",
    "X_test_minmax = min_max_scaler.transform(X_testfirst)\n",
    "#6(a)knn\n",
    "from sklearn.neighbors import KNeighborsRegressor\n",
    "from sklearn.metrics import mean_squared_error\n",
    "from sklearn.metrics import r2_score\n",
    "knn= KNeighborsRegressor()\n",
    "knn.fit(X_train_minmax, y_train)\n",
    "y_test_knn_pred = knn.predict(X_test_minmax)\n",
    "knnmsesqrt=np.sqrt(mean_squared_error(y_test_knn_pred, y_test))\n",
    "knnR2=r2_score(y_test,y_test_knn_pred )\n",
    "print('KNN Square root of Mean squared error: '+str(knnmsesqrt))\n",
    "print('KNN R_squared: '+str(knnR2))\n",
    "#6(a)decisiontree\n",
    "from sklearn import tree\n",
    "np.random.seed(my_NIA)\n",
    "clf = tree.DecisionTreeRegressor()\n",
    "clf.fit(X_train_minmax, y_train)\n",
    "y_test_tree_pred = clf.predict(X_test_minmax)\n",
    "treemsesqrt=np.sqrt(mean_squared_error(y_test_tree_pred, y_test))\n",
    "treeR2=r2_score(y_test,y_test_tree_pred )\n",
    "print('Regression Tree Square root of Mean squared error: '+str(treemsesqrt))\n",
    "print('Regression Tree R_squared: '+str(treeR2))\n",
    "#6(a)svm\n",
    "from sklearn.preprocessing import StandardScaler\n",
    "#from sklearn import svm\n",
    "from sklearn.svm import SVR\n",
    "np.random.seed(my_NIA)\n",
    "svr = SVR(gamma = 'auto')\n",
    "scaler=StandardScaler()\n",
    "ytrain=scaler.fit_transform(y_train.reshape(-1, 1))\n",
    "ytest=scaler.transform(y_test.reshape(-1, 1))\n",
    "svr.fit(X_train_minmax, ytrain)\n",
    "y_test_svm_pred = svr.predict(X_test_minmax)\n",
    "svmmsesqrt=np.sqrt(mean_squared_error(scaler.inverse_transform(y_test_svm_pred),scaler.inverse_transform(ytest)))\n",
    "svmR2=r2_score(ytest,y_test_svm_pred )\n",
    "print('SVM Square root of Mean squared error: '+str(svmmsesqrt))\n",
    "print('SVM R_squared: '+str(svmR2))\n"
   ]
  },
  {
   "cell_type": "code",
   "execution_count": 3,
   "metadata": {},
   "outputs": [
    {
     "name": "stdout",
     "output_type": "stream",
     "text": [
      "Fitting 1 folds for each of 20 candidates, totalling 20 fits\n"
     ]
    },
    {
     "name": "stderr",
     "output_type": "stream",
     "text": [
      "[Parallel(n_jobs=-1)]: Using backend LokyBackend with 8 concurrent workers.\n",
      "[Parallel(n_jobs=-1)]: Done  20 out of  20 | elapsed:   36.3s finished\n"
     ]
    },
    {
     "name": "stdout",
     "output_type": "stream",
     "text": [
      "KNN Best parameters: {'n_neighbors': 85}\n",
      "KNN Square root of Mean squared error: 3281007.5023953407\n",
      "KNN R_squared: 0.8104547926855329\n"
     ]
    }
   ],
   "source": [
    "#4.validation using PredefinedSplit\n",
    "from sklearn.model_selection import PredefinedSplit\n",
    "validation_indices = np.zeros(X_train_minmax.shape[0])\n",
    "validation_indices[:round(10/12*X_train_minmax.shape[0])] = -1\n",
    "tr_val_partition = PredefinedSplit(validation_indices)\n",
    "#6(b)knn\n",
    "from sklearn.metrics import mean_squared_error\n",
    "from sklearn.metrics import r2_score\n",
    "from sklearn.neighbors import KNeighborsRegressor\n",
    "from sklearn.model_selection import RandomizedSearchCV\n",
    "import numpy as np\n",
    "from sklearn import metrics\n",
    "knn = KNeighborsRegressor()\n",
    "#parameter number of neighbors is integer\n",
    "param_grid = {'n_neighbors': range(1,733,1)}\n",
    "knn_grid = RandomizedSearchCV(knn,param_grid,n_iter=20,cv=tr_val_partition,n_jobs=-1, verbose=1,random_state = my_NIA)\n",
    "knn_grid.fit(X_train_minmax, y_train)\n",
    "y_test_knnb_pred = knn_grid.predict(X_test_minmax)\n",
    "knnbbest=knn_grid.best_params_\n",
    "knnbmsesqrt=np.sqrt(mean_squared_error(y_test_knnb_pred, y_test))\n",
    "knnbR2=r2_score(y_test,y_test_knnb_pred )\n",
    "print('KNN Best parameters: '+str(knnbbest))\n",
    "print('KNN Square root of Mean squared error: '+str(knnbmsesqrt))\n",
    "print('KNN R_squared: '+str(knnbR2))"
   ]
  },
  {
   "cell_type": "code",
   "execution_count": 4,
   "metadata": {},
   "outputs": [
    {
     "name": "stdout",
     "output_type": "stream",
     "text": [
      "Fitting 1 folds for each of 20 candidates, totalling 20 fits\n"
     ]
    },
    {
     "name": "stderr",
     "output_type": "stream",
     "text": [
      "[Parallel(n_jobs=-1)]: Using backend LokyBackend with 8 concurrent workers.\n",
      "[Parallel(n_jobs=-1)]: Done  20 out of  20 | elapsed:    4.2s finished\n"
     ]
    },
    {
     "name": "stdout",
     "output_type": "stream",
     "text": [
      "Regression Tree Best parameters: {'min_samples_split': 96, 'max_depth': 84}\n",
      "Regression Tree Square root of Mean squared error: 3685109.584086934\n",
      "Regression Tree R_squared: 0.7608892097470532\n"
     ]
    }
   ],
   "source": [
    "#6b.tree\n",
    "from sklearn import tree\n",
    "np.random.seed(my_NIA)\n",
    "clf = tree.DecisionTreeRegressor()\n",
    "param_grid = {'max_depth': range(2,100,2),'min_samples_split': range(2,100,2)}\n",
    "clf_grid = RandomizedSearchCV(clf,param_grid,n_iter=20,cv=tr_val_partition,n_jobs=-1, verbose=1,random_state = my_NIA)\n",
    "clf_grid.fit(X_train_minmax, y_train)\n",
    "y_test_treeb_pred = clf_grid.predict(X_test_minmax)\n",
    "treebbest=clf_grid.best_params_\n",
    "treebmsesqrt=np.sqrt(mean_squared_error(y_test_treeb_pred, y_test))\n",
    "treebR2=r2_score(y_test,y_test_treeb_pred )\n",
    "print('Regression Tree Best parameters: '+str(treebbest))\n",
    "print('Regression Tree Square root of Mean squared error: '+str(treebmsesqrt))\n",
    "print('Regression Tree R_squared: '+str(treebR2))"
   ]
  },
  {
   "cell_type": "code",
   "execution_count": 14,
   "metadata": {},
   "outputs": [
    {
     "name": "stdout",
     "output_type": "stream",
     "text": [
      "Fitting 1 folds for each of 20 candidates, totalling 20 fits\n"
     ]
    },
    {
     "name": "stderr",
     "output_type": "stream",
     "text": [
      "[Parallel(n_jobs=-1)]: Using backend LokyBackend with 8 concurrent workers.\n",
      "[Parallel(n_jobs=-1)]: Done  20 out of  20 | elapsed:  4.9min finished\n",
      "C:\\Users\\15096\\Anaconda3\\lib\\site-packages\\sklearn\\utils\\validation.py:724: DataConversionWarning: A column-vector y was passed when a 1d array was expected. Please change the shape of y to (n_samples, ), for example using ravel().\n",
      "  y = column_or_1d(y, warn=True)\n"
     ]
    },
    {
     "name": "stdout",
     "output_type": "stream",
     "text": [
      "SVM Best parameters: {'epsilon': 0.32099999999999995, 'degree': 9, 'C': 1381}\n",
      "SVM Square root of Mean squared error: 2993328.661320041\n",
      "SVM R_squared: 0.8422362688166181\n"
     ]
    }
   ],
   "source": [
    "#6b.svm\n",
    "from sklearn.svm import SVR\n",
    "np.random.seed(my_NIA)\n",
    "svr = SVR(gamma = 'auto')\n",
    "param_grid = {'C': range(1,10000,10),'degree':range(2,20,1),'epsilon': np.arange(0.001,1,0.01)}\n",
    "svm_grid = RandomizedSearchCV(svr,param_grid,n_iter=20,cv=tr_val_partition,n_jobs=-1, verbose=1,random_state = my_NIA)\n",
    "svm_grid.fit(X_train_minmax, ytrain)\n",
    "y_test_svmb_pred = svm_grid.predict(X_test_minmax)\n",
    "svmbbest=svm_grid.best_params_\n",
    "svmbmsesqrt=np.sqrt(mean_squared_error(scaler.inverse_transform(y_test_svmb_pred),scaler.inverse_transform(ytest)))\n",
    "svmbR2=r2_score(ytest,y_test_svmb_pred )\n",
    "print('SVM Best parameters: '+str(svmbbest))\n",
    "print('SVM Square root of Mean squared error: '+str(svmbmsesqrt))\n",
    "print('SVM R_squared: '+str(svmbR2))"
   ]
  },
  {
   "cell_type": "code",
   "execution_count": null,
   "metadata": {},
   "outputs": [],
   "source": []
  }
 ],
 "metadata": {
  "kernelspec": {
   "display_name": "Python 3",
   "language": "python",
   "name": "python3"
  },
  "language_info": {
   "codemirror_mode": {
    "name": "ipython",
    "version": 3
   },
   "file_extension": ".py",
   "mimetype": "text/x-python",
   "name": "python",
   "nbconvert_exporter": "python",
   "pygments_lexer": "ipython3",
   "version": "3.7.4"
  }
 },
 "nbformat": 4,
 "nbformat_minor": 2
}
